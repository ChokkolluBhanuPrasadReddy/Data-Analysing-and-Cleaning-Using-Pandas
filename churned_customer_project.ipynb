{
 "cells": [
  {
   "cell_type": "code",
   "execution_count": 2,
   "id": "8ae5683e-dd94-4850-a78f-247cebcf3067",
   "metadata": {},
   "outputs": [],
   "source": [
    "import numpy as np \n",
    "import pandas as pd "
   ]
  },
  {
   "cell_type": "code",
   "execution_count": 3,
   "id": "6d428d38-2694-4d2e-b4dc-ccede026ecde",
   "metadata": {},
   "outputs": [],
   "source": [
    "df = pd.read_csv(r\"C:\\Users\\bhanu\\Downloads\\churn.csv\")"
   ]
  },
  {
   "cell_type": "markdown",
   "id": "1612335a-70d0-4a37-a26b-3e18dee2e0dd",
   "metadata": {},
   "source": [
    "### 1. Load the data, print first five rows and display each column datatype"
   ]
  },
  {
   "cell_type": "code",
   "execution_count": 4,
   "id": "056987fa-ee50-4ad4-9a4d-fe2b2130a359",
   "metadata": {},
   "outputs": [
    {
     "name": "stdout",
     "output_type": "stream",
     "text": [
      "   RowNumber  CustomerId   Surname  CreditScore Geography  Gender  Age  \\\n",
      "0          1    15634602  Hargrave          619    France  Female   42   \n",
      "1          2    15647311      Hill          608     Spain  Female   41   \n",
      "2          3    15619304      Onio          502    France  Female   42   \n",
      "3          4    15701354      Boni          699    France  Female   39   \n",
      "4          5    15737888  Mitchell          850     Spain  Female   43   \n",
      "\n",
      "   Tenure    Balance  NumOfProducts  HasCrCard  IsActiveMember  \\\n",
      "0       2       0.00              1          1               1   \n",
      "1       1   83807.86              1          0               1   \n",
      "2       8  159660.80              3          1               0   \n",
      "3       1       0.00              2          0               0   \n",
      "4       2  125510.82              1          1               1   \n",
      "\n",
      "   EstimatedSalary  Exited  \n",
      "0        101348.88       1  \n",
      "1        112542.58       0  \n",
      "2        113931.57       1  \n",
      "3         93826.63       0  \n",
      "4         79084.10       0  \n"
     ]
    }
   ],
   "source": [
    "print(df.head(5))"
   ]
  },
  {
   "cell_type": "markdown",
   "id": "a9908c77-ae10-4ca7-ae1c-b05408a34958",
   "metadata": {},
   "source": [
    "### 2. check the missing values, duplicate values and how many are there"
   ]
  },
  {
   "cell_type": "code",
   "execution_count": 5,
   "id": "9b9d81df-fce5-495d-9a42-ec671aa82534",
   "metadata": {},
   "outputs": [
    {
     "name": "stdout",
     "output_type": "stream",
     "text": [
      "0\n",
      "Empty DataFrame\n",
      "Columns: [RowNumber, CustomerId, Surname, CreditScore, Geography, Gender, Age, Tenure, Balance, NumOfProducts, HasCrCard, IsActiveMember, EstimatedSalary, Exited]\n",
      "Index: []\n"
     ]
    }
   ],
   "source": [
    "print(df.isna().sum().sum()) # zero null values\n",
    "print(df[df.duplicated()])  # no duplicate rows"
   ]
  },
  {
   "cell_type": "markdown",
   "id": "2aa78abd-7025-43ab-8060-a8e5521e544f",
   "metadata": {},
   "source": [
    "### 3. convert categorical column into label encoding and one hot encoding"
   ]
  },
  {
   "cell_type": "code",
   "execution_count": 6,
   "id": "fdd2f992-effd-4141-8e31-3bbd18c2e548",
   "metadata": {},
   "outputs": [],
   "source": [
    "pd.get_dummies(df,columns=['Gender'],dtype=int) # one hot encoding\n",
    "df['Surname'] = df['Surname'].astype('category').cat.codes # label encoding\n"
   ]
  },
  {
   "cell_type": "markdown",
   "id": "933f869d-3072-48da-bf2f-58f1dedcf6df",
   "metadata": {},
   "source": [
    "### 4. calculate the overall churn rate. display both count and the percentage of who exited "
   ]
  },
  {
   "cell_type": "code",
   "execution_count": 7,
   "id": "2e13aa41-e378-4837-b102-7bd73fa50ca5",
   "metadata": {},
   "outputs": [
    {
     "name": "stdout",
     "output_type": "stream",
     "text": [
      "count of churned customers = 2037\n",
      "percantage of churned customers out of all customers : 20.37%\n"
     ]
    }
   ],
   "source": [
    "count_of_churned = df['Exited'].sum()\n",
    "print(f\"count of churned customers = {count_of_churned}\")\n",
    "percentage_of_churned_cutsmrs = (count_of_churned/df.shape[0])*100\n",
    "print(f\"percantage of churned customers out of all customers : {percentage_of_churned_cutsmrs:.2f}%\")"
   ]
  },
  {
   "cell_type": "markdown",
   "id": "cf13ba2d-0cb4-48a9-b9b6-009b3c9a3232",
   "metadata": {},
   "source": [
    "### 5. Group the data by geography and find the churn rate for each country"
   ]
  },
  {
   "cell_type": "code",
   "execution_count": null,
   "id": "88e55298-8265-42eb-a5b0-4d446858903a",
   "metadata": {},
   "outputs": [
    {
     "name": "stderr",
     "output_type": "stream",
     "text": [
      "C:\\Users\\bhanu\\AppData\\Local\\Temp\\ipykernel_2536\\516809299.py:1: DeprecationWarning: DataFrameGroupBy.apply operated on the grouping columns. This behavior is deprecated, and in a future version of pandas the grouping columns will be excluded from the operation. Either pass `include_groups=False` to exclude the groupings or explicitly select the grouping columns after groupby to silence this warning.\n",
      "  df.groupby(\"Geography\").apply(lambda x : x['Exited'].sum()/len(df))*100\n"
     ]
    },
    {
     "data": {
      "text/plain": [
       "Geography\n",
       "France     8.10\n",
       "Germany    8.14\n",
       "Spain      4.13\n",
       "dtype: float64"
      ]
     },
     "execution_count": 8,
     "metadata": {},
     "output_type": "execute_result"
    }
   ],
   "source": [
    "df.groupby(\"Geography\").apply(lambda x : x['Exited'].sum()/len(df))*100"
   ]
  },
  {
   "cell_type": "markdown",
   "id": "f90d5853-b725-4b0d-8d57-3b1fb0d23098",
   "metadata": {},
   "source": [
    "### 6.What is the age of customers who churned versus who didnt churned"
   ]
  },
  {
   "cell_type": "code",
   "execution_count": 9,
   "id": "842dad96-4175-4a68-8745-6e3e2a5e83e4",
   "metadata": {},
   "outputs": [
    {
     "name": "stdout",
     "output_type": "stream",
     "text": [
      "avg age of churned customers = 44.84\n",
      "avg age of not churned customers = 37.41\n"
     ]
    }
   ],
   "source": [
    "churned_cust = df[df['Exited']==1]\n",
    "not_churned_cust = df[df['Exited']==0] \n",
    "print(f\"avg age of churned customers = {churned_cust['Age'].mean():.2f}\")\n",
    "print(f\"avg age of not churned customers = {not_churned_cust['Age'].mean():.2f}\")"
   ]
  },
  {
   "cell_type": "markdown",
   "id": "b912f414-9f55-450c-a989-5206aca38f9f",
   "metadata": {},
   "source": [
    "### 7. Determine what perecentage of churnmed customers are age over 45. compare it to all overall dataset "
   ]
  },
  {
   "cell_type": "code",
   "execution_count": 23,
   "id": "5f714d96-db27-4c58-a5b8-1100f9dd1320",
   "metadata": {},
   "outputs": [
    {
     "name": "stdout",
     "output_type": "stream",
     "text": [
      "Percentage of churned customers over 45: 100.00%\n",
      "Percentage of all customers over 45: 21.11%\n"
     ]
    }
   ],
   "source": [
    "total_churned = df[df['Exited']==1]\n",
    "churned_over45 = total_churned[total_churned['Age']>45]\n",
    "overall_cust_over45 = df[df['Age']>45]\n",
    "\n",
    "percen_churned_over45 = (len(churned_cust)/len(total_churned))*100\n",
    "percen_overall_over45 = (len(overall_cust_over45)/len(df))*100\n",
    "\n",
    "print(f\"Percentage of churned customers over 45: {percen_churned_over45:.2f}%\")\n",
    "print(f\"Percentage of all customers over 45: {percen_overall_over45:.2f}%\")\n"
   ]
  },
  {
   "cell_type": "markdown",
   "id": "0e8bb09f-046a-4547-8fe9-c295d8f17b8b",
   "metadata": {},
   "source": [
    "### 8. Analize the churn rate by gender. Do male or female churn more?"
   ]
  },
  {
   "cell_type": "code",
   "execution_count": 29,
   "id": "daed1ed4-598f-4f49-8a4a-6ea88ac3bfbd",
   "metadata": {},
   "outputs": [
    {
     "name": "stdout",
     "output_type": "stream",
     "text": [
      "Percenatge of churned male 44.08\n",
      "Percenatge of churned female 55.92\n"
     ]
    }
   ],
   "source": [
    "total_churned = df[df['Exited']==1] \n",
    "churned_male = total_churned[total_churned['Gender']=='Male']\n",
    "churned_female = total_churned[total_churned['Gender']=='Female']\n",
    "\n",
    "percent_churned_male = (len(churned_male)/len(total_churned))*100\n",
    "percent_churned_female = (len(churned_female)/len(total_churned))*100\n",
    "\n",
    "print(f\"Percenatge of churned male {percent_churned_male:.2f}\")\n",
    "print(f\"Percenatge of churned female {percent_churned_female:.2f}\")\n"
   ]
  },
  {
   "cell_type": "markdown",
   "id": "c25be1c8-c967-4c01-a7a0-b10ad38d84cd",
   "metadata": {},
   "source": [
    "### 9. Analyze the churn rate based on numberproducts. Create a summary table showing a churn rate for 1,2,3 and 4 products"
   ]
  },
  {
   "cell_type": "code",
   "execution_count": 36,
   "id": "fd4cb545-c74d-4099-955c-8591708f41bf",
   "metadata": {},
   "outputs": [
    {
     "name": "stdout",
     "output_type": "stream",
     "text": [
      "               total_customers  churned_customers  churnrae (%)\n",
      "NumOfProducts                                                  \n",
      "1                         5084               1409     27.714398\n",
      "2                         4590                348      7.581699\n",
      "3                          266                220     82.706767\n",
      "4                           60                 60    100.000000\n"
     ]
    }
   ],
   "source": [
    "summary = df.groupby('NumOfProducts')['Exited'].agg(['count','sum'])\n",
    "summary.columns = ['total_customers','churned_customers']\n",
    "summary['churnrae (%)'] = (summary['churned_customers']/summary['total_customers'])*100\n",
    "summary = summary.loc[[1,2,3,4]]\n",
    "print(summary)"
   ]
  },
  {
   "cell_type": "markdown",
   "id": "cd2969b8-47ea-4a34-a2ff-664d77a3e32c",
   "metadata": {},
   "source": [
    "### 10. Among customers with a Balance of zero, what percentage have exited the bank"
   ]
  },
  {
   "cell_type": "code",
   "execution_count": 45,
   "id": "03ea7070-7a5c-4f5a-9a22-47c43d4c6a47",
   "metadata": {},
   "outputs": [
    {
     "name": "stdout",
     "output_type": "stream",
     "text": [
      "24.55%\n"
     ]
    }
   ],
   "source": [
    "total_churned = df[df['Exited']==1]\n",
    "customers_with_zerobalance = total_churned[total_churned['Balance']==0]\n",
    "\n",
    "percent_of_exited_bank_with_zerobalance = (len(customers_with_zerobalance)/len(total_churned))*100\n",
    "print(f\"{percent_of_exited_bank_with_zerobalance:.2f}%\")\n"
   ]
  },
  {
   "cell_type": "markdown",
   "id": "c2778800-769d-42a0-8811-7aaede751a12",
   "metadata": {},
   "source": [
    "### 11. what is average tenure of customers who churned compared to who didnt?"
   ]
  },
  {
   "cell_type": "code",
   "execution_count": 49,
   "id": "55c3639c-d6e7-46fd-9128-4da37544e318",
   "metadata": {},
   "outputs": [
    {
     "name": "stdout",
     "output_type": "stream",
     "text": [
      "avg of churned customer tenure 4.932744231713304\n",
      "avg of non churned customer tenure 5.033278914981791\n"
     ]
    }
   ],
   "source": [
    "churned = df[df['Exited']==1] \n",
    "not_churned = df[df['Exited']==0] \n",
    "\n",
    "print(f\"avg of churned customer tenure {churned['Tenure'].mean()}\")\n",
    "print(f\"avg of non churned customer tenure {not_churned['Tenure'].mean()}\")"
   ]
  },
  {
   "cell_type": "markdown",
   "id": "40e40def-ccef-4501-8729-fb4358ba0e60",
   "metadata": {},
   "source": [
    "### 12. Calculate the churn rate for customers with credit score < 600 , creditscore>800"
   ]
  },
  {
   "cell_type": "code",
   "execution_count": 50,
   "id": "347a0cd0-9285-4b9f-9fd0-1f4fa426f2e3",
   "metadata": {},
   "outputs": [
    {
     "name": "stdout",
     "output_type": "stream",
     "text": [
      "less than 600 creditscore = 32.40%\n",
      "great than 800 creditscore = 6.23%\n"
     ]
    }
   ],
   "source": [
    "total_churned = df[df['Exited']==1] \n",
    "cus_with_lessthn_600credit = total_churned[total_churned['CreditScore']<600]\n",
    "cus_with_greatthn_800credit = total_churned[total_churned['CreditScore']>800]\n",
    "\n",
    "percent_lessthn_600credit = (len(cus_with_lessthn_600credit)/len(total_churned))*100\n",
    "percent_greatthn_800credit = (len(cus_with_greatthn_800credit)/len(total_churned))*100\n",
    "\n",
    "print(f\"less than 600 creditscore = {percent_lessthn_600credit:.2f}%\")\n",
    "print(f\"great than 800 creditscore = {percent_greatthn_800credit:.2f}%\")\n",
    "\n"
   ]
  },
  {
   "cell_type": "markdown",
   "id": "9cb54d46-d5ae-43db-a045-c7f8b837e03f",
   "metadata": {},
   "source": [
    "### 13.Among the customers with a hascrcard value of 0 and 1, compare the churn rate."
   ]
  },
  {
   "cell_type": "code",
   "execution_count": 53,
   "id": "72accac4-a84c-485e-af5a-8453db9562c7",
   "metadata": {},
   "outputs": [
    {
     "name": "stdout",
     "output_type": "stream",
     "text": [
      "Churn rate for customers without a credit card (HasCrCard = 0): 20.81%\n",
      "Churn rate for customers with a credit card (HasCrCard = 1): 20.18%\n",
      "           Total_Customers  Churned_Customers  Churn_Rate (%)\n",
      "HasCrCard                                                    \n",
      "0                     2945                613       20.814941\n",
      "1                     7055               1424       20.184266\n"
     ]
    }
   ],
   "source": [
    "card_0 = df[df['HasCrCard'] == 0]\n",
    "card_1 = df[df['HasCrCard'] == 1]\n",
    "\n",
    "churn_rate_0 = (card_0['Exited'].sum() / len(card_0)) * 100\n",
    "churn_rate_1 = (card_1['Exited'].sum() / len(card_1)) * 100\n",
    "\n",
    "print(f\"Churn rate for customers without a credit card (HasCrCard = 0): {churn_rate_0:.2f}%\")\n",
    "print(f\"Churn rate for customers with a credit card (HasCrCard = 1): {churn_rate_1:.2f}%\")\n",
    "\n",
    "cr_summary = df.groupby('HasCrCard')['Exited'].agg(['count', 'sum'])\n",
    "cr_summary.columns = ['Total_Customers', 'Churned_Customers']\n",
    "cr_summary['Churn_Rate (%)'] = (cr_summary['Churned_Customers'] / cr_summary['Total_Customers']) * 100\n",
    "\n",
    "print(cr_summary)\n"
   ]
  },
  {
   "cell_type": "markdown",
   "id": "ab9ff9af-9db5-46df-bcc4-a0b39c43a226",
   "metadata": {},
   "source": [
    "###  14. Create the column of Category, Credit Score. and calcute churn rate between category"
   ]
  },
  {
   "cell_type": "code",
   "execution_count": 72,
   "id": "1a83fea1-8801-415f-892b-1a5f172968b3",
   "metadata": {},
   "outputs": [
    {
     "data": {
      "text/html": [
       "<div>\n",
       "<style scoped>\n",
       "    .dataframe tbody tr th:only-of-type {\n",
       "        vertical-align: middle;\n",
       "    }\n",
       "\n",
       "    .dataframe tbody tr th {\n",
       "        vertical-align: top;\n",
       "    }\n",
       "\n",
       "    .dataframe thead th {\n",
       "        text-align: right;\n",
       "    }\n",
       "</style>\n",
       "<table border=\"1\" class=\"dataframe\">\n",
       "  <thead>\n",
       "    <tr style=\"text-align: right;\">\n",
       "      <th></th>\n",
       "      <th>total_exited</th>\n",
       "      <th>avg_category_churn</th>\n",
       "    </tr>\n",
       "    <tr>\n",
       "      <th>score_category</th>\n",
       "      <th></th>\n",
       "      <th></th>\n",
       "    </tr>\n",
       "  </thead>\n",
       "  <tbody>\n",
       "    <tr>\n",
       "      <th>high</th>\n",
       "      <td>127</td>\n",
       "      <td>6.234659</td>\n",
       "    </tr>\n",
       "    <tr>\n",
       "      <th>low</th>\n",
       "      <td>660</td>\n",
       "      <td>32.400589</td>\n",
       "    </tr>\n",
       "    <tr>\n",
       "      <th>medium</th>\n",
       "      <td>1244</td>\n",
       "      <td>61.070201</td>\n",
       "    </tr>\n",
       "  </tbody>\n",
       "</table>\n",
       "</div>"
      ],
      "text/plain": [
       "                total_exited  avg_category_churn\n",
       "score_category                                  \n",
       "high                     127            6.234659\n",
       "low                      660           32.400589\n",
       "medium                  1244           61.070201"
      ]
     },
     "execution_count": 72,
     "metadata": {},
     "output_type": "execute_result"
    }
   ],
   "source": [
    "def categ_creditscore(score):\n",
    "    if score < 600:\n",
    "        return \"low\"\n",
    "    elif score > 600 and score < 800:\n",
    "        return \"medium\"\n",
    "    elif score > 800:\n",
    "        return 'high'\n",
    "\n",
    "\n",
    "df['score_category'] = df['CreditScore'].apply(categ_creditscore)\n",
    "churnedd = df[df['Exited']==1]\n",
    "summary = churnedd.groupby('score_category')['Exited'].agg(['sum'])\n",
    "summary.columns = ['total_exited']\n",
    "\n",
    "summary['avg_category_churn'] = (summary['total_exited']/len(churnedd))*100\n",
    "summary\n",
    "\n"
   ]
  },
  {
   "cell_type": "markdown",
   "id": "e7a7beac-5840-4ca8-a958-cd38beeb99f0",
   "metadata": {},
   "source": [
    "### 16. What is the average estimated salary for churned vs non-churned customers?"
   ]
  },
  {
   "cell_type": "code",
   "execution_count": 75,
   "id": "a99f181c-3b9a-444d-8b05-e0c069c1362e",
   "metadata": {},
   "outputs": [
    {
     "name": "stdout",
     "output_type": "stream",
     "text": [
      "avg estimated salary for churned customer = 101465.68\n",
      "avg estimated salary for non churned customer = 99738.39\n"
     ]
    }
   ],
   "source": [
    "churned = df[df['Exited'] == 1]\n",
    "non_churned = df[df['Exited'] == 0]\n",
    "\n",
    "avg_estimated_salary_churned = churned['EstimatedSalary'].mean()\n",
    "avg_estimated_salary_nonchurned = non_churned['EstimatedSalary'].mean()\n",
    "\n",
    "print(f\"avg estimated salary for churned customer = {avg_estimated_salary_churned:.2f}\")\n",
    "print(f\"avg estimated salary for non churned customer = {avg_estimated_salary_nonchurned:.2f}\")\n",
    "\n"
   ]
  },
  {
   "cell_type": "code",
   "execution_count": null,
   "id": "1a077947-6aa8-491b-92d7-928f22e93536",
   "metadata": {},
   "outputs": [],
   "source": []
  }
 ],
 "metadata": {
  "kernelspec": {
   "display_name": "Python 3 (ipykernel)",
   "language": "python",
   "name": "python3"
  },
  "language_info": {
   "codemirror_mode": {
    "name": "ipython",
    "version": 3
   },
   "file_extension": ".py",
   "mimetype": "text/x-python",
   "name": "python",
   "nbconvert_exporter": "python",
   "pygments_lexer": "ipython3",
   "version": "3.12.7"
  }
 },
 "nbformat": 4,
 "nbformat_minor": 5
}
