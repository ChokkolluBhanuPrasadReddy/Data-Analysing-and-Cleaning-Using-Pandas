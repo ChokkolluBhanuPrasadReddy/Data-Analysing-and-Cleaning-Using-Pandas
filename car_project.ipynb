{
 "cells": [
  {
   "cell_type": "code",
   "execution_count": 1,
   "id": "a41435f8-43f3-41ec-9b64-79b046fadff1",
   "metadata": {},
   "outputs": [],
   "source": [
    "import numpy as np\n",
    "import pandas as pd"
   ]
  },
  {
   "cell_type": "code",
   "execution_count": 2,
   "id": "00d1b7df-714b-4b57-9e35-988fffd67389",
   "metadata": {},
   "outputs": [],
   "source": [
    "\n",
    "df = pd.read_csv(r\"C:\\Users\\bhanu\\Downloads\\cars.csv\")"
   ]
  },
  {
   "cell_type": "markdown",
   "id": "60452917-71d2-4659-a008-4b349545de14",
   "metadata": {},
   "source": [
    "### 1. Display the first 5 rows of the dataset"
   ]
  },
  {
   "cell_type": "code",
   "execution_count": 7,
   "id": "cf3d9eb9-fd14-4e62-b5b1-49e83bc447aa",
   "metadata": {},
   "outputs": [
    {
     "name": "stdout",
     "output_type": "stream",
     "text": [
      "   S.No.                              Name    Location  Year  \\\n",
      "0      0            Maruti Wagon R LXI CNG      Mumbai  2010   \n",
      "1      1  Hyundai Creta 1.6 CRDi SX Option        Pune  2015   \n",
      "2      2                      Honda Jazz V     Chennai  2011   \n",
      "3      3                 Maruti Ertiga VDI     Chennai  2012   \n",
      "4      4   Audi A4 New 2.0 TDI Multitronic  Coimbatore  2013   \n",
      "\n",
      "   Kilometers_Driven Fuel_Type Transmission Owner_Type  Mileage     KM  \\\n",
      "0              72000       CNG       Manual      First    26.60  km/kg   \n",
      "1              41000    Diesel       Manual      First    19.67   kmpl   \n",
      "2              46000    Petrol       Manual      First    18.20   kmpl   \n",
      "3              87000    Diesel       Manual      First    20.77   kmpl   \n",
      "4              40670    Diesel    Automatic     Second    15.20   kmpl   \n",
      "\n",
      "    Power   MM  New_Price  Price  \n",
      "0   58.16  bhp  19.894324   1.75  \n",
      "1  126.20  bhp  19.894324  12.50  \n",
      "2   88.70  bhp   8.610000   4.50  \n",
      "3   88.76  bhp  19.894324   6.00  \n",
      "4  140.80  bhp  19.894324  17.74  \n"
     ]
    }
   ],
   "source": [
    "print(df.head(5))"
   ]
  },
  {
   "cell_type": "markdown",
   "id": "54c43570-92db-47f6-ac22-a420f3fd6b98",
   "metadata": {},
   "source": [
    "### 2.Check the number of missing values in each column.\n",
    "\n"
   ]
  },
  {
   "cell_type": "code",
   "execution_count": 4,
   "id": "28ebe53c-ef61-4cb1-8dd7-3f2c78bd049f",
   "metadata": {},
   "outputs": [
    {
     "name": "stdout",
     "output_type": "stream",
     "text": [
      "S.No.                   0\n",
      "Name                    0\n",
      "Location                0\n",
      "Year                    0\n",
      "Kilometers_Driven       0\n",
      "Fuel_Type               0\n",
      "Transmission            0\n",
      "Owner_Type              0\n",
      "Mileage                 2\n",
      "KM                      2\n",
      "Power                 175\n",
      "MM                     46\n",
      "New_Price            6247\n",
      "Price                1234\n",
      "dtype: int64\n"
     ]
    }
   ],
   "source": [
    "print(df.isna().sum())"
   ]
  },
  {
   "cell_type": "markdown",
   "id": "40d7d100-880a-4b93-8c61-80d610f4fc71",
   "metadata": {},
   "source": [
    "### 3.What is the data type of each column?"
   ]
  },
  {
   "cell_type": "code",
   "execution_count": 12,
   "id": "2c0f8c08-ac89-4bd2-9e59-a95d84532755",
   "metadata": {},
   "outputs": [
    {
     "name": "stdout",
     "output_type": "stream",
     "text": [
      "<class 'pandas.core.frame.DataFrame'>\n",
      "RangeIndex: 7253 entries, 0 to 7252\n",
      "Data columns (total 14 columns):\n",
      " #   Column             Non-Null Count  Dtype  \n",
      "---  ------             --------------  -----  \n",
      " 0   S.No.              7253 non-null   int64  \n",
      " 1   Name               7253 non-null   object \n",
      " 2   Location           7253 non-null   object \n",
      " 3   Year               7253 non-null   int64  \n",
      " 4   Kilometers_Driven  7253 non-null   int64  \n",
      " 5   Fuel_Type          7253 non-null   object \n",
      " 6   Transmission       7253 non-null   object \n",
      " 7   Owner_Type         7253 non-null   object \n",
      " 8   Mileage            7251 non-null   float64\n",
      " 9   KM                 7251 non-null   object \n",
      " 10  Power              7078 non-null   float64\n",
      " 11  MM                 7207 non-null   object \n",
      " 12  New_Price          1006 non-null   object \n",
      " 13  Price              6019 non-null   float64\n",
      "dtypes: float64(3), int64(3), object(8)\n",
      "memory usage: 793.4+ KB\n",
      "None\n"
     ]
    }
   ],
   "source": [
    "print(df.info())"
   ]
  },
  {
   "cell_type": "markdown",
   "id": "627990dc-79f1-41ae-9654-a969d90e5e0a",
   "metadata": {},
   "source": [
    "### 4.How many unique car models are there?"
   ]
  },
  {
   "cell_type": "code",
   "execution_count": 17,
   "id": "51786e9e-65de-4d92-a735-17d0ea2dfee5",
   "metadata": {},
   "outputs": [
    {
     "name": "stdout",
     "output_type": "stream",
     "text": [
      "2041\n"
     ]
    }
   ],
   "source": [
    "car_model_unique = set(df['Name']) ## or df['Name'].nunique()\n",
    "print(len(car_model_unique))"
   ]
  },
  {
   "cell_type": "markdown",
   "id": "533a8e9b-4641-4cd1-ac9f-49738b85b1da",
   "metadata": {},
   "source": [
    "### 5.which columns have null values, how you handle them"
   ]
  },
  {
   "cell_type": "code",
   "execution_count": 6,
   "id": "dfc804bd-671d-49ec-bd9c-71babbe2f065",
   "metadata": {},
   "outputs": [
    {
     "name": "stdout",
     "output_type": "stream",
     "text": [
      "S.No.                0\n",
      "Name                 0\n",
      "Location             0\n",
      "Year                 0\n",
      "Kilometers_Driven    0\n",
      "Fuel_Type            0\n",
      "Transmission         0\n",
      "Owner_Type           0\n",
      "Mileage              0\n",
      "KM                   0\n",
      "Power                0\n",
      "MM                   0\n",
      "New_Price            0\n",
      "Price                0\n",
      "dtype: int64\n"
     ]
    }
   ],
   "source": [
    "df['Mileage'] = df['Mileage'].fillna(df['Mileage'].mean())\n",
    "df['Power'] = df['Power'].fillna(df['Power'].mean())\n",
    "df['MM'] = df['MM'].fillna(df['MM'].mode()[0])\n",
    "df['KM'] = df['KM'].fillna(df['KM'].mode()[0])\n",
    "df['Price'] = df['Price'].fillna(df['Price'].mean())\n",
    "df['New_Price'] = df['New_Price'].fillna(df['New_Price'].mean())\n",
    "\n",
    "print(df.isna().sum())\n"
   ]
  },
  {
   "cell_type": "markdown",
   "id": "00213b2e-4ea4-495a-b1c8-2456b092e21a",
   "metadata": {},
   "source": [
    "### 6.What is range(min max) of car prices"
   ]
  },
  {
   "cell_type": "code",
   "execution_count": 46,
   "id": "d9eb305d-568c-4176-9d06-b53b2a7686ef",
   "metadata": {},
   "outputs": [
    {
     "name": "stdout",
     "output_type": "stream",
     "text": [
      "max    160.00\n",
      "min      0.44\n",
      "Name: Price, dtype: float64\n"
     ]
    }
   ],
   "source": [
    "print(df['Price'].agg(['max','min']))"
   ]
  },
  {
   "cell_type": "markdown",
   "id": "2c07162e-bfb3-428f-a13c-a068843a5eac",
   "metadata": {},
   "source": [
    "### 7. List the top locations with the most cars sold"
   ]
  },
  {
   "cell_type": "code",
   "execution_count": 62,
   "id": "847ce1a0-fe13-4381-a417-bc6a2a13367e",
   "metadata": {},
   "outputs": [
    {
     "data": {
      "text/plain": [
       "Location\n",
       "Mumbai        949\n",
       "Hyderabad     876\n",
       "Kochi         772\n",
       "Coimbatore    772\n",
       "Pune          765\n",
       "Name: Name, dtype: int64"
      ]
     },
     "execution_count": 62,
     "metadata": {},
     "output_type": "execute_result"
    }
   ],
   "source": [
    "df.groupby('Location')['Name'].count().sort_values(ascending=False).head(5)"
   ]
  },
  {
   "cell_type": "markdown",
   "id": "6f56feb7-b35c-4bb3-b9b4-da7add99ab08",
   "metadata": {},
   "source": [
    "### 8.which year has the highest number of car listed"
   ]
  },
  {
   "cell_type": "code",
   "execution_count": 6,
   "id": "c54bc618-52ff-44f1-b33d-da60f59d1ecb",
   "metadata": {},
   "outputs": [
    {
     "name": "stdout",
     "output_type": "stream",
     "text": [
      "2014:929\n"
     ]
    }
   ],
   "source": [
    "grouped=df.groupby('Year')['Name'].count()\n",
    "max_year = grouped.idxmax()\n",
    "max_cars = grouped.max() \n",
    "print(f\"{df['Year'][max_year]}:{max_cars}\")"
   ]
  },
  {
   "cell_type": "markdown",
   "id": "56bfdaef-3833-4c9a-8c65-2c0400263eda",
   "metadata": {},
   "source": [
    "### 9.what is the distribution of tramission types in dataset"
   ]
  },
  {
   "cell_type": "code",
   "execution_count": 7,
   "id": "3b74ed86-cbd9-4ce9-b3c0-5f830022650b",
   "metadata": {},
   "outputs": [
    {
     "data": {
      "text/plain": [
       "Transmission\n",
       "Manual       5204\n",
       "Automatic    2049\n",
       "Name: count, dtype: int64"
      ]
     },
     "execution_count": 7,
     "metadata": {},
     "output_type": "execute_result"
    }
   ],
   "source": [
    "df['Transmission'].value_counts()"
   ]
  },
  {
   "cell_type": "markdown",
   "id": "ab46f6f7-3afd-46c7-97a0-e3161278c4b5",
   "metadata": {},
   "source": [
    "### 10. Convert mileage and power columns into float dataye"
   ]
  },
  {
   "cell_type": "code",
   "execution_count": 10,
   "id": "eb9b2190-7ec1-4f3c-8a51-822e836dd399",
   "metadata": {},
   "outputs": [
    {
     "name": "stdout",
     "output_type": "stream",
     "text": [
      "<class 'pandas.core.frame.DataFrame'>\n",
      "RangeIndex: 7253 entries, 0 to 7252\n",
      "Data columns (total 14 columns):\n",
      " #   Column             Non-Null Count  Dtype  \n",
      "---  ------             --------------  -----  \n",
      " 0   S.No.              7253 non-null   int64  \n",
      " 1   Name               7253 non-null   object \n",
      " 2   Location           7253 non-null   object \n",
      " 3   Year               7253 non-null   int64  \n",
      " 4   Kilometers_Driven  7253 non-null   int64  \n",
      " 5   Fuel_Type          7253 non-null   object \n",
      " 6   Transmission       7253 non-null   object \n",
      " 7   Owner_Type         7253 non-null   object \n",
      " 8   Mileage            7251 non-null   float64\n",
      " 9   KM                 7251 non-null   object \n",
      " 10  Power              7078 non-null   float64\n",
      " 11  MM                 7207 non-null   object \n",
      " 12  New_Price          1006 non-null   object \n",
      " 13  Price              6019 non-null   float64\n",
      "dtypes: float64(3), int64(3), object(8)\n",
      "memory usage: 793.4+ KB\n"
     ]
    }
   ],
   "source": [
    "df.info() #already power and mileage are in float datatype"
   ]
  },
  {
   "cell_type": "markdown",
   "id": "41336245-7fb2-42a7-8ad6-a8edccd03f70",
   "metadata": {},
   "source": [
    "### 11. find the average of selling price of cars by fuel types"
   ]
  },
  {
   "cell_type": "code",
   "execution_count": 8,
   "id": "34c5a970-f7dc-48bb-aae6-4f091449b4d3",
   "metadata": {},
   "outputs": [
    {
     "data": {
      "text/plain": [
       "Fuel_Type\n",
       "CNG          4.093820\n",
       "Diesel      12.276053\n",
       "Electric    12.875000\n",
       "LPG          3.652411\n",
       "Petrol       6.359047\n",
       "Name: Price, dtype: float64"
      ]
     },
     "execution_count": 8,
     "metadata": {},
     "output_type": "execute_result"
    }
   ],
   "source": [
    "df.groupby('Fuel_Type')['Price'].mean()"
   ]
  },
  {
   "cell_type": "markdown",
   "id": "7a5ca8c5-7e48-4935-a9da-ba62d4a4bb01",
   "metadata": {},
   "source": [
    "### 12.which city has the highest average car price"
   ]
  },
  {
   "cell_type": "code",
   "execution_count": 13,
   "id": "08a60dbe-b66c-4c6c-a41b-04965fef2d57",
   "metadata": {},
   "outputs": [
    {
     "data": {
      "text/plain": [
       "Location\n",
       "Hyderabad    160.0\n",
       "Name: Price, dtype: float64"
      ]
     },
     "execution_count": 13,
     "metadata": {},
     "output_type": "execute_result"
    }
   ],
   "source": [
    "df.groupby('Location')['Price'].max().sort_values(ascending=False).head(1)"
   ]
  },
  {
   "cell_type": "markdown",
   "id": "6319ad7c-7d52-4d43-be3e-3717dbec3ddf",
   "metadata": {},
   "source": [
    "### 13.calculate the average of mileage of each transmission"
   ]
  },
  {
   "cell_type": "code",
   "execution_count": 14,
   "id": "6c25e064-4922-43e0-9743-0368534425d4",
   "metadata": {},
   "outputs": [
    {
     "data": {
      "text/plain": [
       "Transmission\n",
       "Automatic    15.759411\n",
       "Manual       19.079525\n",
       "Name: Mileage, dtype: float64"
      ]
     },
     "execution_count": 14,
     "metadata": {},
     "output_type": "execute_result"
    }
   ],
   "source": [
    "df.groupby('Transmission')['Mileage'].mean()"
   ]
  },
  {
   "cell_type": "markdown",
   "id": "252ff49c-ee1c-4412-a278-d9efef084b14",
   "metadata": {},
   "source": [
    "### 14. group the cars by year and count how many cars were listed each year "
   ]
  },
  {
   "cell_type": "code",
   "execution_count": 16,
   "id": "b7cdfaa7-9220-416e-9222-bd9bdf552751",
   "metadata": {},
   "outputs": [
    {
     "data": {
      "text/plain": [
       "Year\n",
       "1996      1\n",
       "1998      4\n",
       "1999      2\n",
       "2000      5\n",
       "2001      8\n",
       "2002     18\n",
       "2003     20\n",
       "2004     35\n",
       "2005     68\n",
       "2006     89\n",
       "2007    148\n",
       "2008    207\n",
       "2009    252\n",
       "2010    407\n",
       "2011    579\n",
       "2012    690\n",
       "2013    791\n",
       "2014    925\n",
       "2015    929\n",
       "2016    886\n",
       "2017    709\n",
       "2018    361\n",
       "2019    119\n",
       "Name: Name, dtype: int64"
      ]
     },
     "execution_count": 16,
     "metadata": {},
     "output_type": "execute_result"
    }
   ],
   "source": [
    "df.groupby('Year')['Name'].count()"
   ]
  },
  {
   "cell_type": "markdown",
   "id": "6b6fa5c7-eb31-4f5a-ad4b-1b6897684d94",
   "metadata": {},
   "source": [
    "### 15. Which car model has the highest average price  "
   ]
  },
  {
   "cell_type": "code",
   "execution_count": 18,
   "id": "5b2e4b12-eea4-48ec-8095-bb095c68bdca",
   "metadata": {},
   "outputs": [
    {
     "data": {
      "text/plain": [
       "Name\n",
       "Land Rover Range Rover 3.0 Diesel LWB Vogue    160.0\n",
       "Name: Price, dtype: float64"
      ]
     },
     "execution_count": 18,
     "metadata": {},
     "output_type": "execute_result"
    }
   ],
   "source": [
    "df.groupby('Name')['Price'].mean().sort_values(ascending=False).head(1)"
   ]
  },
  {
   "cell_type": "markdown",
   "id": "0d8f4988-8ddc-4751-b260-77bec5d0009f",
   "metadata": {},
   "source": [
    "### 16. Group by owner type and find the average kilometer driven"
   ]
  },
  {
   "cell_type": "code",
   "execution_count": 19,
   "id": "a4022093-e989-4068-91e7-fdab6244124d",
   "metadata": {},
   "outputs": [
    {
     "data": {
      "text/plain": [
       "Owner_Type\n",
       "First              55255.363911\n",
       "Fourth & Above    119756.500000\n",
       "Second             72433.625868\n",
       "Third              87472.729927\n",
       "Name: Kilometers_Driven, dtype: float64"
      ]
     },
     "execution_count": 19,
     "metadata": {},
     "output_type": "execute_result"
    }
   ],
   "source": [
    "df.groupby('Owner_Type')['Kilometers_Driven'].mean()"
   ]
  },
  {
   "cell_type": "markdown",
   "id": "8c9b8228-1814-4664-910f-65a5039b865b",
   "metadata": {},
   "source": [
    "### 17. What is average power(bhp) of diesel vs petrol"
   ]
  },
  {
   "cell_type": "code",
   "execution_count": 25,
   "id": "8a4dec28-2fb8-4345-a9cc-2696bf8ff89e",
   "metadata": {},
   "outputs": [
    {
     "name": "stdout",
     "output_type": "stream",
     "text": [
      "Diesel avg = 126.94976364355114 Petrol avg 97.43632862815416\n"
     ]
    }
   ],
   "source": [
    "disiel = df[df['Fuel_Type']=='Diesel']\n",
    "petrol = df[df['Fuel_Type']=='Petrol']\n",
    "avg = df.groupby('Fuel_Type')['Power'].mean()\n",
    "print(f\"Diesel avg = {avg['Diesel']} Petrol avg {avg['Petrol']}\")\n"
   ]
  },
  {
   "cell_type": "markdown",
   "id": "eb84e6b8-1b8e-451e-9e73-4fcc732aae9f",
   "metadata": {},
   "source": [
    "### 18. Group the cars by Fuel type and transmission and calculate the mean price"
   ]
  },
  {
   "cell_type": "code",
   "execution_count": 27,
   "id": "e4155dc6-0c08-4f1a-9fde-05521303eb52",
   "metadata": {},
   "outputs": [
    {
     "data": {
      "text/plain": [
       "Fuel_Type  Transmission\n",
       "CNG        Manual           4.093820\n",
       "Diesel     Automatic       22.186225\n",
       "           Manual           7.127454\n",
       "Electric   Automatic       12.875000\n",
       "LPG        Manual           3.652411\n",
       "Petrol     Automatic       10.966255\n",
       "           Manual           5.062993\n",
       "Name: Price, dtype: float64"
      ]
     },
     "execution_count": 27,
     "metadata": {},
     "output_type": "execute_result"
    }
   ],
   "source": [
    "df.groupby(['Fuel_Type','Transmission'])['Price'].mean()"
   ]
  },
  {
   "cell_type": "markdown",
   "id": "b402a065-ef03-4fb7-8e1c-9a4a4dd700cd",
   "metadata": {},
   "source": [
    "### 19. Which owner type has the highest avg resale value"
   ]
  },
  {
   "cell_type": "code",
   "execution_count": 29,
   "id": "8924926e-6ffc-4d00-85d3-db1823e371ed",
   "metadata": {},
   "outputs": [
    {
     "data": {
      "text/plain": [
       "Owner_Type\n",
       "First             19.900847\n",
       "Fourth & Above    19.894324\n",
       "Second            19.872525\n",
       "Third             19.794229\n",
       "Name: New_Price, dtype: float64"
      ]
     },
     "execution_count": 29,
     "metadata": {},
     "output_type": "execute_result"
    }
   ],
   "source": [
    "df.groupby('Owner_Type')['New_Price'].mean()"
   ]
  },
  {
   "cell_type": "markdown",
   "id": "f15d69db-5438-462a-8b02-cce2534fb24e",
   "metadata": {},
   "source": [
    "### 20. For each city, what is the avarage price of automatic cars"
   ]
  },
  {
   "cell_type": "code",
   "execution_count": 31,
   "id": "677c148b-36c6-43c8-bbe7-58d965dc563f",
   "metadata": {},
   "outputs": [
    {
     "data": {
      "text/plain": [
       "Location\n",
       "Ahmedabad     15.406841\n",
       "Bangalore     21.351851\n",
       "Chennai       16.444055\n",
       "Coimbatore    23.474621\n",
       "Delhi         18.320551\n",
       "Hyderabad     19.452633\n",
       "Jaipur        13.566043\n",
       "Kochi         19.773832\n",
       "Kolkata       14.957679\n",
       "Mumbai        15.018691\n",
       "Pune          13.762288\n",
       "Name: Price, dtype: float64"
      ]
     },
     "execution_count": 31,
     "metadata": {},
     "output_type": "execute_result"
    }
   ],
   "source": [
    "df[df['Transmission']=='Automatic'].groupby('Location')['Price'].mean()"
   ]
  },
  {
   "cell_type": "code",
   "execution_count": null,
   "id": "669efd9f-219c-4c4b-bb5b-205187774eb2",
   "metadata": {},
   "outputs": [],
   "source": []
  }
 ],
 "metadata": {
  "kernelspec": {
   "display_name": "Python 3 (ipykernel)",
   "language": "python",
   "name": "python3"
  },
  "language_info": {
   "codemirror_mode": {
    "name": "ipython",
    "version": 3
   },
   "file_extension": ".py",
   "mimetype": "text/x-python",
   "name": "python",
   "nbconvert_exporter": "python",
   "pygments_lexer": "ipython3",
   "version": "3.12.7"
  }
 },
 "nbformat": 4,
 "nbformat_minor": 5
}
